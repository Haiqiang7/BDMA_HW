{
 "cells": [
  {
   "cell_type": "markdown",
   "metadata": {
    "id": "lvnKTXzOO5p_"
   },
   "source": [
    "# Homework 1 - Streaming and Higher Order Functions (15 pts)\n",
    "\n",
    "Please turn in your note book naming as *BDM\\_HW1\\_LastName.ipynb*."
   ]
  },
  {
   "cell_type": "markdown",
   "metadata": {
    "id": "aCy9ZXhXL9Lo"
   },
   "source": [
    "\n",
    "## Task 1 (2 points)\n",
    "\n",
    "Please complete the **lambda f1** definition below by filling in the _________ part. **f1** is expected to take a single string argument and returns whether the string can be converted to a natural number or zero. If it's possible, returns **'Number'**, otherwise returns **'Not a number'**. For example *'0123'* is a valid number 'Number', whereas *'0xff'* is not."
   ]
  },
  {
   "cell_type": "code",
   "execution_count": 3,
   "metadata": {
    "colab": {
     "base_uri": "https://localhost:8080/"
    },
    "id": "_ZGEp6bsL9Lp",
    "outputId": "d5bf7b1e-7fc6-41f8-8987-68564ec5be3b"
   },
   "outputs": [
    {
     "name": "stdout",
     "output_type": "stream",
     "text": [
      "Not a number\n",
      "Number\n",
      "Not a number\n"
     ]
    }
   ],
   "source": [
    "f1 = lambda x:'Number'if x.isdigit() else 'Not a number'\n",
    "print(f1('1A'))\n",
    "print(f1('12'))\n",
    "print(f1('b1'))"
   ]
  },
  {
   "cell_type": "markdown",
   "metadata": {
    "id": "tk3arVyKL9Lq"
   },
   "source": [
    "\n",
    "## Task 2 (2 points)\n",
    "\n",
    "Please complete the **lambda f2** definition below by filling in the _________ part. **f2** takes a single iterable (e.g. a list or a string), and returns the number of unique elements. Please see the sample output below."
   ]
  },
  {
   "cell_type": "code",
   "execution_count": 4,
   "metadata": {
    "colab": {
     "base_uri": "https://localhost:8080/"
    },
    "id": "OH6LEFSzL9Lr",
    "outputId": "9b4d0da8-2962-4128-d679-ee0f8aa2fb8f"
   },
   "outputs": [
    {
     "name": "stdout",
     "output_type": "stream",
     "text": [
      "5\n",
      "8\n"
     ]
    }
   ],
   "source": [
    "f2 =lambda x:len(list(set(x)))\n",
    "print(f2([1,2,3,4,1,5,2]))\n",
    "print(f2('hello world'))"
   ]
  },
  {
   "cell_type": "markdown",
   "metadata": {
    "id": "MGjOHTNOL9Lr"
   },
   "source": [
    "\n",
    "## Task 3 (2 points)\n",
    "\n",
    "Please complete the **lambda f3** definition below by filling in the _________ part. **f3** takes two strings *x* and *y*, and return all the words in *x* that do not appear in *y*. Please note that the word comparison iscase insensitive. Samples area also provided below."
   ]
  },
  {
   "cell_type": "code",
   "execution_count": 7,
   "metadata": {
    "colab": {
     "base_uri": "https://localhost:8080/"
    },
    "id": "OgKRE6WvL9Ls",
    "outputId": "fea3943e-1a65-4879-d35e-176009a12960"
   },
   "outputs": [
    {
     "name": "stdout",
     "output_type": "stream",
     "text": [
      "['management', 'and', 'analysis']\n",
      "['a']\n"
     ]
    }
   ],
   "source": [
    "f3 = lambda x, y:[i for i in x.lower().split()if i not in y.lower().split()]\n",
    "print(f3('big data management and analysis', 'big data computing'))\n",
    "print(f3('this is a phrase', 'this is another phrase'))"
   ]
  },
  {
   "cell_type": "markdown",
   "metadata": {
    "id": "4D1Sn_NiL9Ls"
   },
   "source": [
    "\n",
    "## Task 4 (9 points)\n",
    "\n",
    "We are greatly inspired by the [Consumer Complaints](https://github.com/InsightDataScience/consumer_complaints) challenge from [InsightDataScience](https://github.com/InsightDataScience/). In fact, we are going to tackle the same challenge but streaming. Please read through the challenge at the following link (the most important sections are “Input dataset” and “Expected output”):\n",
    "\n",
    "<https://github.com/InsightDataScience/consumer_complaints>\n",
    "\n",
    "Our problem is different than the one above in that the INPUT is also <ins>sorted by product (alphabetically) and year (ascending)</ins>, similar to the requested output format. You are asked to complete the generator below to produce the expected output. You should not edit any other code.\n",
    "\n",
    "### INPUT\n",
    "Your code will be evaluated against the original data set (in CSV format) downloaded from the below link (of course with a sorted version). For your convenience, a smaller version of the file is provided below for testing purposes.\n",
    "\n",
    "https://www.consumerfinance.gov/data-research/consumer-complaints/#download-the-data\n",
    "\n"
   ]
  },
  {
   "cell_type": "code",
   "execution_count": 1,
   "metadata": {
    "id": "V8aZSJ5ciyqn"
   },
   "outputs": [],
   "source": [
    "from pydrive.auth import GoogleAuth\n",
    "from pydrive.drive import GoogleDrive\n",
    "from google.colab import auth\n",
    "from oauth2client.client import GoogleCredentials\n",
    "\n",
    "# Authenticate and create the PyDrive client\n",
    "auth.authenticate_user()\n",
    "gauth = GoogleAuth()\n",
    "gauth.credentials = GoogleCredentials.get_application_default()\n",
    "drive = GoogleDrive(gauth)"
   ]
  },
  {
   "cell_type": "code",
   "execution_count": 2,
   "metadata": {
    "colab": {
     "base_uri": "https://localhost:8080/"
    },
    "id": "Xf4WQNpEi021",
    "outputId": "f57f7b65-bbfc-4ff9-96a3-a62b9cd6e155"
   },
   "outputs": [
    {
     "name": "stdout",
     "output_type": "stream",
     "text": [
      "Date received,Product,Sub-product,Issue,Sub-issue,Consumer complaint narrative,Company public response,Company,State,ZIP code,Tags,Consumer consent provided?,Submitted via,Date sent to company,Company response to consumer,Timely response?,Consumer disputed?,Complaint ID\r\n"
     ]
    }
   ],
   "source": [
    "drive.CreateFile({'id': '1-IeoZDwT5wQzBUpsaS5B6vTaP-2ZBkam'}).GetContentFile('complaints.csv')\n",
    "!head -n 1 complaints.csv"
   ]
  },
  {
   "cell_type": "code",
   "execution_count": 3,
   "metadata": {
    "id": "28mcMPLZUB6A"
   },
   "outputs": [],
   "source": [
    "def task4(reader):\n",
    "  # YOU CAN ONLY EDIT CODE BELOW THIS LINE\n",
    "  # Note: below is just an example, and not correct\n",
    "  result_dics={}\n",
    "  for row in reader: # this line should stay the same\n",
    "# DO NOT EDIT THIS CELL, YOU CAN RUN TO QUICKLY CHECK YOUR RESULTS\n",
    "#     print(row)\n",
    "    tempyear=row['Date received'].split(\"-\")[0]\n",
    "    tempkey=row['Product'].lower()+\"&\"+tempyear\n",
    "    if tempkey in result_dics:\n",
    "      temparr=result_dics[tempkey] #= [row['Product'].lower(), tempyear, 0, []]\n",
    "      # print(temparr)\n",
    "      temparr[3].append(row['Company'])\n",
    "      result_dics[tempkey]=[row['Product'].lower(),tempyear,temparr[2]+1,temparr[3]]\n",
    "    else:\n",
    "      #add key\n",
    "      #[Product，year，total number of complaints for product，total number of complaints for companies]\n",
    "      result_dics[tempkey]=[row['Product'].lower(),tempyear,1,[row['Company']]]\n",
    "  result_list=list(result_dics.values())\n",
    "  for temp_result in result_list:\n",
    "    temp_companys=temp_result[3]\n",
    "    temp_result[3]=len(list(set(temp_companys)))\n",
    "    maxcom=max(set(temp_companys), key=temp_companys.count)\n",
    "    tempcou=round((str(temp_companys).count(maxcom)/len(temp_companys))*100)\n",
    "    temp_result.append(tempcou)\n",
    "  result_list = sorted(result_list, key=lambda item: (item[0], int(item[1])))\n",
    "  return result_list"
   ]
  },
  {
   "cell_type": "code",
   "execution_count": 4,
   "metadata": {
    "colab": {
     "base_uri": "https://localhost:8080/"
    },
    "id": "vdF8fvHjTScK",
    "outputId": "d19cd6c3-e7b4-4eaa-c8f6-dcf6f17ed15f"
   },
   "outputs": [
    {
     "name": "stdout",
     "output_type": "stream",
     "text": [
      "bank account or service,2015,1,1,100\r\n",
      "bank account or service,2016,2,2,50\r\n",
      "checking or savings account,2017,1,1,100\r\n",
      "checking or savings account,2018,20,10,25\r\n",
      "checking or savings account,2019,461,72,13\r\n",
      "checking or savings account,2020,3,3,33\r\n",
      "consumer loan,2015,1,1,100\r\n",
      "consumer loan,2016,1,1,100\r\n",
      "consumer loan,2017,1,1,100\r\n",
      "credit card,2016,4,4,25\r\n"
     ]
    }
   ],
   "source": [
    "# DO NOT EDIT THIS CELL, YOU CAN RUN TO QUICKLY CHECK YOUR RESULTS\n",
    "\n",
    "import csv\n",
    "\n",
    "with open('complaints.csv', 'r') as fi, open('output.csv', 'w') as fo:\n",
    "  reader = csv.DictReader(fi)\n",
    "  writer = csv.writer(fo)\n",
    "  for row in task4(reader):\n",
    "    writer.writerow(row)\n",
    "\n",
    "!head output.csv"
   ]
  },
  {
   "cell_type": "code",
   "execution_count": null,
   "metadata": {
    "id": "4w5uhaHIWKv-"
   },
   "outputs": [],
   "source": []
  }
 ],
 "metadata": {
  "colab": {
   "collapsed_sections": [],
   "name": "BDM_HW1",
   "provenance": []
  },
  "kernelspec": {
   "display_name": "Python 3",
   "language": "python",
   "name": "python3"
  },
  "language_info": {
   "codemirror_mode": {
    "name": "ipython",
    "version": 3
   },
   "file_extension": ".py",
   "mimetype": "text/x-python",
   "name": "python",
   "nbconvert_exporter": "python",
   "pygments_lexer": "ipython3",
   "version": "3.8.3"
  }
 },
 "nbformat": 4,
 "nbformat_minor": 1
}
